{
 "cells": [
  {
   "cell_type": "code",
   "execution_count": 4,
   "id": "2a9f36da-0737-4e58-a6cd-45021795307d",
   "metadata": {},
   "outputs": [
    {
     "name": "stdout",
     "output_type": "stream",
     "text": [
      "['Badmimton.csv', 'Food.xlsx', 'GO.csv', 'Hiking.csv', 'Judo.xlsx', 'swim.csv', 'tabletennis.csv']\n"
     ]
    }
   ],
   "source": [
    "###################################\n",
    "#\n",
    "#Modify data formats for analysis.\n",
    "#\n",
    "###################################\n",
    "\n",
    "import pandas as pd\n",
    "from datetime import datetime\n",
    "from os import listdir\n",
    "\n",
    "def Modify(RawDir,ModifiedDir):\n",
    "    fileList = listdir(RawDir)\n",
    "    for name in fileList:\n",
    "        file_path = f'{RawDir}\\\\{name}' \n",
    "        df = pd.read_csv(file_path, header = 0)\n",
    "        df = df.iloc[1:]\n",
    "        formatted_dates = []\n",
    "        formatted_times = []\n",
    "        empty_column_name = '時間'\n",
    "        for index, value in df[\"日期\"].items():\n",
    "            try:\n",
    "                # Parse the string to datetime object\n",
    "                date_time_obj = datetime.strptime(value, '%a %b %d %H:%M:%S %Y')\n",
    "\n",
    "                # Format to 'yyyy-mm-dd' and 'hh-mm'\n",
    "                formatted_date = date_time_obj.strftime('%Y-%m-%d')\n",
    "                formatted_time = date_time_obj.strftime('%H-%M')\n",
    "\n",
    "                # Update the DataFrame with formatted values\n",
    "                formatted_dates.append(formatted_date)\n",
    "                formatted_times.append(formatted_time)\n",
    "                \n",
    "            except:\n",
    "                df = df.drop(index)\n",
    "\n",
    "        df['formatted_date'] = formatted_dates\n",
    "        df['formatted_time'] = formatted_times\n",
    "\n",
    "        df = df.drop(df.columns[df.columns.str.contains('Unnamed', case=False)], axis=1)\n",
    "        df = df.drop(\"日期\", axis = 1)\n",
    "\n",
    "        df.to_csv(f\"{ModifiedDir}\\\\modified_{name}.csv\", index=False, encoding='utf-8-sig')\n",
    "        df.to_excel(f\"{ModifiedDir}\\\\modified_{name}.xlsx\", index=False, encoding='utf-8-sig')\n",
    "\n",
    "Modify(\"DataRaw\", \"DataModified\")"
   ]
  },
  {
   "cell_type": "code",
   "execution_count": null,
   "id": "2550be7a-6014-4462-b217-4e01fa170047",
   "metadata": {},
   "outputs": [],
   "source": []
  }
 ],
 "metadata": {
  "@webio": {
   "lastCommId": null,
   "lastKernelId": null
  },
  "kernelspec": {
   "display_name": "Python 3 (ipykernel)",
   "language": "python",
   "name": "python3"
  },
  "language_info": {
   "codemirror_mode": {
    "name": "ipython",
    "version": 3
   },
   "file_extension": ".py",
   "mimetype": "text/x-python",
   "name": "python",
   "nbconvert_exporter": "python",
   "pygments_lexer": "ipython3",
   "version": "3.9.13"
  },
  "toc": {
   "base_numbering": 1,
   "nav_menu": {},
   "number_sections": true,
   "sideBar": true,
   "skip_h1_title": false,
   "title_cell": "Table of Contents",
   "title_sidebar": "Contents",
   "toc_cell": false,
   "toc_position": {},
   "toc_section_display": true,
   "toc_window_display": false
  }
 },
 "nbformat": 4,
 "nbformat_minor": 5
}
